{
 "cells": [
  {
   "cell_type": "code",
   "execution_count": 176,
   "metadata": {},
   "outputs": [],
   "source": [
    "import time\n",
    "import requests\n",
    "from selenium import webdriver\n",
    "from bs4 import BeautifulSoup\n",
    "import urllib.request\n",
    "from webdriver_manager.chrome import ChromeDriverManager\n",
    "from selenium.common.exceptions import NoSuchElementException\n",
    "\n",
    "from datetime import date\n",
    "import pandas as pd\n",
    "date_today = date.today()\n",
    "\n",
    "SCROLL_PAUSE_TIME = 0.5\n",
    "\n",
    "brand = []\n",
    "product_type = []\n",
    "name = []\n",
    "product_url = []\n",
    "timestamp = []\n",
    "picture_url = []\n",
    "price = []\n",
    "sales_price = []\n",
    "\n",
    "#URL = 'https://shop.diesel.com/en/womens/apparel/'\n",
    "URL = 'https://shop.diesel.com/en/mens/apparel/'\n",
    "driver = webdriver.Chrome('/Users/mandili/.wdm/drivers/chromedriver/87.0.4280.20/mac64/chromedriver')\n",
    "driver.get(URL)\n",
    "\n",
    "last_height = driver.execute_script(\"return document.body.scrollHeight\")\n",
    "for i in range (37, 771, 36): # change variable see how many pages\n",
    "\n",
    "    while True:\n",
    "        # Scroll down to bottom\n",
    "        driver.execute_script(\"window.scrollTo(0, document.body.scrollHeight);\")\n",
    "\n",
    "        # Wait to load page\n",
    "        time.sleep(SCROLL_PAUSE_TIME)\n",
    "\n",
    "        # Calculate new scroll height and compare with last scroll height\n",
    "        new_height = driver.execute_script(\"return document.body.scrollHeight\")\n",
    "        if new_height == last_height:\n",
    "            break\n",
    "        last_height = new_height\n",
    "\n",
    "    driver.find_element_by_xpath('/html/body/div[3]/div[3]/div[5]/div/div[1]/div/div[2]/div[{}]/div/button'.format(i)).click()\n",
    "\n",
    "soup = BeautifulSoup(driver.page_source,'html.parser')\n",
    "\n",
    "for i in soup.find_all('div',{'class':'row-span-1 col-span-1 js_tile'}):\n",
    "    brand.append('Diesel')\n",
    "    product_type.append(\"Men's Clothing\")  # change variable\n",
    "    timestamp.append(date_today)\n",
    "    \n",
    "    name.append(i.find('div',{'itemprop':'name'}).a.text)\n",
    "    product_url.append(\"https://shop.diesel.com\" + i.find('div',{'itemprop':'name'}).a.get('href'))\n",
    "    if i.find('div',{'class':\"image-container\"}).img.get('data-src') != None:\n",
    "        picture_url.append(i.find('div',{'class':\"image-container\"}).img.get('data-src'))\n",
    "    else:\n",
    "        picture_url.append(i.find('div',{'class':\"image-container\"}).img.get('src'))\n",
    "    if i.find('div',{'class':'price'}).find('span',{'class':'strike-through list'}) != None:\n",
    "        price.append(i.find('div',{'class':'price'}).find('span',{'class':'strike-through list'}).text.strip())\n",
    "    else:\n",
    "        price.append(None)\n",
    "    sales_price.append(i.find('div',{'class':'price'}).span.find('span',{'class':'sales'}).text.strip())"
   ]
  },
  {
   "cell_type": "markdown",
   "metadata": {},
   "source": [
    "# Second Layer"
   ]
  },
  {
   "cell_type": "code",
   "execution_count": 177,
   "metadata": {},
   "outputs": [],
   "source": [
    "color = []\n",
    "product_description = []\n",
    "material = []\n",
    "picture_name = []\n",
    "counter = 1\n",
    "\n",
    "for link in product_url:\n",
    "    ourUrl = urllib.request.urlopen(link)\n",
    "    soup = BeautifulSoup(ourUrl,'html.parser')\n",
    "    color_item = []\n",
    "    if soup.find('span',{'class':'attribute-label-value single-val selected'}) != None:\n",
    "        color_item.append(soup.find('span',{'class':'attribute-label-value single-val selected'}).text.strip())\n",
    "    else:\n",
    "        for i_color in soup.find('ul',{'class':'product-attributes js_product-attributes'}).li.find_all('li'):\n",
    "            color_item.append(i_color.get('data-attr-display-value'))\n",
    "    color.append(color_item)\n",
    "    product_description.append(soup.find('div',{'class':'product-description'}).text.strip())\n",
    "    material_i = []\n",
    "    for mat_i in soup.find('div',{'class':'product-details'}).find_all('div',{'class':'product-details-element'}):\n",
    "        material_i.append(mat_i.text.strip().replace('\\n',''))\n",
    "    material.append(material_i)\n",
    "    picture_name.append('diesel_men_' + str(counter) + '.jpg') # change variable\n",
    "    counter += 1"
   ]
  },
  {
   "cell_type": "code",
   "execution_count": 181,
   "metadata": {},
   "outputs": [],
   "source": [
    "column_names = [\"brand\", \"product_type\", \"product_name\", 'product_description', \"price\", \n",
    "                \"sales_price\", \"color\",\"material\", \"product_url\", \"picture_url\", \"timestamp\"]\n",
    "second_pass = pd.DataFrame(columns = column_names)\n",
    "second_pass.brand = brand\n",
    "second_pass.product_type = product_type\n",
    "second_pass.product_name = name\n",
    "second_pass.product_description = product_description\n",
    "second_pass.price = price\n",
    "second_pass.sales_price = sales_price\n",
    "second_pass.color = color\n",
    "second_pass.material = material\n",
    "second_pass.product_url = product_url\n",
    "second_pass.picture_url = picture_url\n",
    "second_pass.timestamp = timestamp"
   ]
  },
  {
   "cell_type": "markdown",
   "metadata": {},
   "source": [
    "# Remove Duplicates"
   ]
  },
  {
   "cell_type": "code",
   "execution_count": 179,
   "metadata": {},
   "outputs": [],
   "source": [
    "result_df = second_pass.drop_duplicates(subset=['product_url'], keep='first')\n",
    "result_df.to_csv(\"diesel-men.csv\", index=False, encoding = 'utf-8-sig')"
   ]
  },
  {
   "cell_type": "markdown",
   "metadata": {},
   "source": [
    "# Download Image"
   ]
  },
  {
   "cell_type": "code",
   "execution_count": 180,
   "metadata": {},
   "outputs": [],
   "source": [
    "import os\n",
    "import requests as req\n",
    "\n",
    "new_pd = pd.read_csv('/Users/mandili/Desktop/diesel-men.csv', encoding='utf-8-sig')\n",
    "\n",
    "os.mkdir('diesel-men')\n",
    "i = 1\n",
    "for index, link in enumerate(new_pd['picture_url']):\n",
    "    img_data = req.get(link).content\n",
    "    with open('diesel-men/'+ \"diesel-men_\"+str(index+1)+'.jpg','wb+') as f:\n",
    "        f.write(img_data)\n",
    "    i+=1"
   ]
  },
  {
   "cell_type": "code",
   "execution_count": null,
   "metadata": {},
   "outputs": [],
   "source": []
  }
 ],
 "metadata": {
  "kernelspec": {
   "display_name": "Python 3",
   "language": "python",
   "name": "python3"
  },
  "language_info": {
   "codemirror_mode": {
    "name": "ipython",
    "version": 3
   },
   "file_extension": ".py",
   "mimetype": "text/x-python",
   "name": "python",
   "nbconvert_exporter": "python",
   "pygments_lexer": "ipython3",
   "version": "3.7.4"
  }
 },
 "nbformat": 4,
 "nbformat_minor": 4
}
