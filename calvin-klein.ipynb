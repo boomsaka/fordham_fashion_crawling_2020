{
 "cells": [
  {
   "cell_type": "code",
   "execution_count": 65,
   "metadata": {},
   "outputs": [],
   "source": [
    "import requests\n",
    "import re\n",
    "from selenium import webdriver\n",
    "from bs4 import BeautifulSoup\n",
    "import urllib.request\n",
    "from webdriver_manager.chrome import ChromeDriverManager\n",
    "from selenium.common.exceptions import NoSuchElementException\n",
    "import time\n",
    "SCROLL_PAUSE_TIME = 1.2\n",
    "from datetime import date\n",
    "import pandas as pd\n",
    "date_today = date.today()\n",
    "\n",
    "name = []\n",
    "product_url = []\n",
    "sales_price = []\n",
    "price = []\n",
    "timestamp  = []\n",
    "brand = []\n",
    "product_type = []\n",
    "image_url = []\n",
    "\n",
    "for i in range(1,3):\n",
    "    URL= 'https://www.calvinklein.us/en/mens-clothing/mens-apparel/mens-shop-all#page='+str(i)\n",
    "    #URL = 'https://www.calvinklein.us/en/womens-clothing/womens-apparel/womens-shop-all#page='+str(i)\n",
    "    driver = webdriver.Chrome('/Users/mandili/.wdm/drivers/chromedriver/87.0.4280.20/mac64/chromedriver')\n",
    "    driver.get(URL)\n",
    "    soup = BeautifulSoup(driver.page_source,'html.parser')\n",
    "    for i in soup.find_all('div',{'class':'productCell processed'}):\n",
    "        timestamp.append(date_today)\n",
    "        brand.append(\"Calvin Klein\")\n",
    "        product_type.append(\"Women's Clothing\")\n",
    "        name.append(i.find('div',{'class':'productName'}).a.text)\n",
    "        product_url.append(i.find('div',{'class':'productName'}).a.get('href'))\n",
    "        price.append(i.find('div',{'id':'price_display'}).find('span',{'class':'price listPrice'}).text)\n",
    "        image_url.append(i.find('div',{'class':'productImage focusParent'}).img.get('data-src'))\n",
    "        if i.find('div',{'id':'price_display'}).find('span',{'class':'price offerPrice promoPrice'}) != None:\n",
    "            sales_price.append(i.find('div',{'id':'price_display'}).find('span',{'class':'price offerPrice promoPrice'}).text)\n",
    "        else:\n",
    "            sales_price.append(i.find('div',{'id':'price_display'}).find('span',{'class':'price offerPrice promoPrice priceRange'}).text)"
   ]
  },
  {
   "cell_type": "code",
   "execution_count": 66,
   "metadata": {},
   "outputs": [
    {
     "data": {
      "text/plain": [
       "180"
      ]
     },
     "execution_count": 66,
     "metadata": {},
     "output_type": "execute_result"
    }
   ],
   "source": [
    "len(name)"
   ]
  },
  {
   "cell_type": "markdown",
   "metadata": {},
   "source": [
    "# Second Layer\n",
    "Blocked by the website, resume using index"
   ]
  },
  {
   "cell_type": "code",
   "execution_count": 71,
   "metadata": {},
   "outputs": [],
   "source": [
    "color = []\n",
    "product_description = []\n",
    "material = []\n",
    "picture_name = []\n",
    "\n",
    "counter = 1\n",
    "#for link in product_url:\n",
    "for i in range(73, len(product_url)):\n",
    "    driver = webdriver.Chrome('/Users/mandili/.wdm/drivers/chromedriver/87.0.4280.20/mac64/chromedriver')\n",
    "    #driver.get(link)\n",
    "    driver.get(product_url[i])\n",
    "    soup = BeautifulSoup(driver.page_source,'html.parser')\n",
    "    color_item = []\n",
    "    material_item = []\n",
    "    for i in soup.find('ul',{'role':'radiogroup'}).find_all('li'):\n",
    "        color_item.append(i.a.img.get('data-color-family'))\n",
    "    color.append(color_item)\n",
    "    product_description.append(str(soup.find('div',{'class':'accordionSection detailsSection'}).find('div',{'class':'short-description'}).text).strip())\n",
    "    for i in soup.find('div',{'class':'accordionContainer collapsableNav'}).find('div',{'class':'accordionContent collapsable'}).find_all('li'):\n",
    "        material_item.append(i.text)\n",
    "    material.append(material_item)"
   ]
  },
  {
   "cell_type": "markdown",
   "metadata": {},
   "source": [
    "# Download Images"
   ]
  },
  {
   "cell_type": "code",
   "execution_count": 79,
   "metadata": {},
   "outputs": [],
   "source": [
    "import os\n",
    "import requests as req\n",
    "\n",
    "new_pd = pd.read_csv('/Users/mandili/Desktop/calvin-klein-women.csv', encoding='utf-8-sig')\n",
    "\n",
    "os.mkdir('calvin-klein-women')\n",
    "i = 1\n",
    "for index, link in enumerate(new_pd['picture_url']):\n",
    "    img_data = req.get(link).content\n",
    "    with open('calvin-klein-women/'+ \"calvin-klein-women_\"+str(index+1)+'.jpg','wb+') as f:\n",
    "        f.write(img_data)\n",
    "    i+=1"
   ]
  },
  {
   "cell_type": "code",
   "execution_count": null,
   "metadata": {},
   "outputs": [],
   "source": []
  }
 ],
 "metadata": {
  "kernelspec": {
   "display_name": "Python 3",
   "language": "python",
   "name": "python3"
  },
  "language_info": {
   "codemirror_mode": {
    "name": "ipython",
    "version": 3
   },
   "file_extension": ".py",
   "mimetype": "text/x-python",
   "name": "python",
   "nbconvert_exporter": "python",
   "pygments_lexer": "ipython3",
   "version": "3.7.4"
  }
 },
 "nbformat": 4,
 "nbformat_minor": 4
}
